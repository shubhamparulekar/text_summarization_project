{
 "cells": [
  {
   "cell_type": "code",
   "execution_count": null,
   "id": "a2d92343",
   "metadata": {},
   "outputs": [],
   "source": [
    "import os\n",
    "from text_summarization.constants import *\n",
    "from text_summarization.utils.common import read_yaml, create_directories, get_size\n",
    "import urllib.request as request\n",
    "import zipfile\n",
    "from text_summarization.logging import logger\n",
    "from dataclasses import dataclass\n",
    "from pathlib import Path"
   ]
  },
  {
   "cell_type": "code",
   "execution_count": 76,
   "id": "23c69b5f",
   "metadata": {},
   "outputs": [
    {
     "data": {
      "text/plain": [
       "'/home/sdp/python/text_summarization_project'"
      ]
     },
     "execution_count": 76,
     "metadata": {},
     "output_type": "execute_result"
    }
   ],
   "source": [
    "%pwd"
   ]
  },
  {
   "cell_type": "code",
   "execution_count": 67,
   "id": "d9ab4058",
   "metadata": {},
   "outputs": [],
   "source": [
    "os.chdir(\"/home/sdp/python/text_summarization_project\")"
   ]
  },
  {
   "cell_type": "code",
   "execution_count": null,
   "id": "25e309b3",
   "metadata": {},
   "outputs": [],
   "source": [
    "\n",
    "@dataclass(frozen=True) # frozen=True makes the dataclass immutable, very important for configuration classes, do not miss to add it\n",
    "class DataIngestionConfig:\n",
    "    root_dir: Path\n",
    "    source_URL: str\n",
    "    local_data_file: Path \n",
    "    unzip_dir: Path\n",
    "\n",
    "class ConfigurationManager:\n",
    "    def __init__(\n",
    "        self,\n",
    "        config_filepath = CONFIG_FILE_PATH,\n",
    "        params_filepath = PARAMS_FILE_PATH):\n",
    "\n",
    "        self.config = read_yaml(config_filepath)\n",
    "        self.params = read_yaml(params_filepath)\n",
    "\n",
    "        create_directories([self.config.artifacts_root], verbose=True)\n",
    "\n",
    "    def get_data_ingestion_config(self) -> DataIngestionConfig:\n",
    "        config = self.config.data_ingestion\n",
    "\n",
    "        create_directories([config.root_dir], verbose=True)\n",
    "\n",
    "        data_ingestion_config = DataIngestionConfig(\n",
    "            root_dir=config.root_dir,\n",
    "            source_URL=config.source_URL,\n",
    "            local_data_file=config.local_data_file,\n",
    "            unzip_dir=config.unzip_dir \n",
    "        )\n",
    "\n",
    "        return data_ingestion_config\n",
    "\n",
    "\n",
    "class DataIngestion:\n",
    "    def __init__(self, config: DataIngestionConfig):\n",
    "        self.config = config\n",
    "\n",
    "\n",
    "    \n",
    "    def download_file(self):\n",
    "        if not os.path.exists(self.config.local_data_file):\n",
    "            filename, headers = request.urlretrieve(\n",
    "                url = self.config.source_URL,\n",
    "                filename = self.config.local_data_file\n",
    "            )\n",
    "            logger.info(f\"{filename} download! with following info: \\n{headers}\")\n",
    "        else:\n",
    "            logger.info(f\"File already exists of size: {get_size(Path(self.config.local_data_file))}\")  \n",
    "        \n",
    "    \n",
    "    def extract_zip_file(self):\n",
    "        unzip_path = self.config.unzip_dir\n",
    "        os.makedirs(unzip_path, exist_ok=True)\n",
    "        with zipfile.ZipFile(self.config.local_data_file, 'r') as zip_ref:\n",
    "            zip_ref.extractall(unzip_path)\n",
    "\n"
   ]
  },
  {
   "cell_type": "code",
   "execution_count": 90,
   "id": "5cbe8d9e",
   "metadata": {},
   "outputs": [
    {
     "name": "stdout",
     "output_type": "stream",
     "text": [
      "[2025-07-20 21:51:32,736: INFO: common: YAML file config/config.yaml read successfully.]\n",
      "[2025-07-20 21:51:32,740: INFO: common: YAML file params.yaml read successfully.]\n",
      "[2025-07-20 21:51:32,742: INFO: common: Directory artifacts created successfully.]\n",
      "[2025-07-20 21:51:32,743: INFO: common: Directory artifacts/data_ingestion created successfully.]\n",
      "[2025-07-20 21:51:34,636: INFO: 2861295806: artifacts/data_ingestion/data.zip download! with following info: \n",
      "Connection: close\n",
      "Content-Length: 7903594\n",
      "Cache-Control: max-age=300\n",
      "Content-Security-Policy: default-src 'none'; style-src 'unsafe-inline'; sandbox\n",
      "Content-Type: application/zip\n",
      "ETag: \"dbc016a060da18070593b83afff580c9b300f0b6ea4147a7988433e04df246ca\"\n",
      "Strict-Transport-Security: max-age=31536000\n",
      "X-Content-Type-Options: nosniff\n",
      "X-Frame-Options: deny\n",
      "X-XSS-Protection: 1; mode=block\n",
      "X-GitHub-Request-Id: 11D5:21BFCC:6B64E2:8B13BE:687DAB35\n",
      "Accept-Ranges: bytes\n",
      "Date: Mon, 21 Jul 2025 02:51:34 GMT\n",
      "Via: 1.1 varnish\n",
      "X-Served-By: cache-chi-klot8100141-CHI\n",
      "X-Cache: MISS\n",
      "X-Cache-Hits: 0\n",
      "X-Timer: S1753066294.788559,VS0,VE389\n",
      "Vary: Authorization,Accept-Encoding\n",
      "Access-Control-Allow-Origin: *\n",
      "Cross-Origin-Resource-Policy: cross-origin\n",
      "X-Fastly-Request-ID: 971ca490cbb095e7a671cc36209609ffc4b4d747\n",
      "Expires: Mon, 21 Jul 2025 02:56:34 GMT\n",
      "Source-Age: 0\n",
      "\n",
      "]\n"
     ]
    }
   ],
   "source": [
    "\n",
    "try:\n",
    "    config = ConfigurationManager()\n",
    "    data_ingestion_config = config.get_data_ingestion_config()\n",
    "    data_ingestion = DataIngestion(config=data_ingestion_config)\n",
    "    data_ingestion.download_file()\n",
    "    data_ingestion.extract_zip_file()\n",
    "except Exception as e:\n",
    "    raise e"
   ]
  },
  {
   "cell_type": "code",
   "execution_count": 91,
   "id": "8059a018",
   "metadata": {},
   "outputs": [
    {
     "name": "stdout",
     "output_type": "stream",
     "text": [
      "True\n",
      "23627009\n"
     ]
    }
   ],
   "source": [
    "import os\n",
    "print(os.path.exists(\"artifacts/dataset/samsumdata.zip\"))\n",
    "print(os.path.getsize(\"artifacts/dataset/samsumdata.zip\"))"
   ]
  },
  {
   "cell_type": "code",
   "execution_count": 93,
   "id": "a521591e",
   "metadata": {},
   "outputs": [
    {
     "name": "stdout",
     "output_type": "stream",
     "text": [
      "True\n",
      "7903594\n"
     ]
    }
   ],
   "source": [
    "import os\n",
    "print(os.path.exists(\"artifacts/data_ingestion/data.zip\"))\n",
    "print(os.path.getsize(\"artifacts/data_ingestion/data.zip\"))"
   ]
  },
  {
   "cell_type": "code",
   "execution_count": null,
   "id": "722af1aa",
   "metadata": {},
   "outputs": [],
   "source": []
  }
 ],
 "metadata": {
  "kernelspec": {
   "display_name": "venv",
   "language": "python",
   "name": "python3"
  },
  "language_info": {
   "codemirror_mode": {
    "name": "ipython",
    "version": 3
   },
   "file_extension": ".py",
   "mimetype": "text/x-python",
   "name": "python",
   "nbconvert_exporter": "python",
   "pygments_lexer": "ipython3",
   "version": "3.12.3"
  }
 },
 "nbformat": 4,
 "nbformat_minor": 5
}
